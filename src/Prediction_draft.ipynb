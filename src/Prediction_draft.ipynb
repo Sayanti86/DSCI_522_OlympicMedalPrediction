{
 "cells": [
  {
   "cell_type": "markdown",
   "metadata": {},
   "source": [
    "### Olympic Medal Count Prediction \n",
    "\n",
    "#### Model      : Decission Tree Classifier .\n",
    "#### Features : Age , Height , Weight , Team , Sport , Year , Event , sex , City."
   ]
  },
  {
   "cell_type": "code",
   "execution_count": 1,
   "metadata": {},
   "outputs": [],
   "source": [
    "import pandas as pd\n",
    "import numpy as np\n",
    "from sklearn import tree \n",
    "from sklearn import preprocessing"
   ]
  },
  {
   "cell_type": "code",
   "execution_count": 2,
   "metadata": {},
   "outputs": [],
   "source": [
    "data = pd.read_csv(\"../data/athlete_events.csv\")\n",
    "data = data.query('Season==\"Summer\"') # Filtered only for Summer season as we are predicting for summer.\n",
    "data = data.dropna() # Removed all NaN from any row. So we do not have those rows . Is it ok ??\n"
   ]
  },
  {
   "cell_type": "code",
   "execution_count": 6,
   "metadata": {},
   "outputs": [
    {
     "data": {
      "text/html": [
       "<div>\n",
       "<style scoped>\n",
       "    .dataframe tbody tr th:only-of-type {\n",
       "        vertical-align: middle;\n",
       "    }\n",
       "\n",
       "    .dataframe tbody tr th {\n",
       "        vertical-align: top;\n",
       "    }\n",
       "\n",
       "    .dataframe thead th {\n",
       "        text-align: right;\n",
       "    }\n",
       "</style>\n",
       "<table border=\"1\" class=\"dataframe\">\n",
       "  <thead>\n",
       "    <tr style=\"text-align: right;\">\n",
       "      <th></th>\n",
       "      <th>ID</th>\n",
       "      <th>Name</th>\n",
       "      <th>Sex</th>\n",
       "      <th>Age</th>\n",
       "      <th>Height</th>\n",
       "      <th>Weight</th>\n",
       "      <th>Team</th>\n",
       "      <th>NOC</th>\n",
       "      <th>Games</th>\n",
       "      <th>Year</th>\n",
       "      <th>Season</th>\n",
       "      <th>City</th>\n",
       "      <th>Sport</th>\n",
       "      <th>Event</th>\n",
       "      <th>Medal</th>\n",
       "    </tr>\n",
       "  </thead>\n",
       "  <tbody>\n",
       "    <tr>\n",
       "      <th>41</th>\n",
       "      <td>17</td>\n",
       "      <td>Paavo Johannes Aaltonen</td>\n",
       "      <td>M</td>\n",
       "      <td>28.0</td>\n",
       "      <td>175.0</td>\n",
       "      <td>64.0</td>\n",
       "      <td>Finland</td>\n",
       "      <td>FIN</td>\n",
       "      <td>1948 Summer</td>\n",
       "      <td>1948</td>\n",
       "      <td>Summer</td>\n",
       "      <td>London</td>\n",
       "      <td>Gymnastics</td>\n",
       "      <td>Gymnastics Men's Individual All-Around</td>\n",
       "      <td>Bronze</td>\n",
       "    </tr>\n",
       "    <tr>\n",
       "      <th>42</th>\n",
       "      <td>17</td>\n",
       "      <td>Paavo Johannes Aaltonen</td>\n",
       "      <td>M</td>\n",
       "      <td>28.0</td>\n",
       "      <td>175.0</td>\n",
       "      <td>64.0</td>\n",
       "      <td>Finland</td>\n",
       "      <td>FIN</td>\n",
       "      <td>1948 Summer</td>\n",
       "      <td>1948</td>\n",
       "      <td>Summer</td>\n",
       "      <td>London</td>\n",
       "      <td>Gymnastics</td>\n",
       "      <td>Gymnastics Men's Team All-Around</td>\n",
       "      <td>Gold</td>\n",
       "    </tr>\n",
       "    <tr>\n",
       "      <th>44</th>\n",
       "      <td>17</td>\n",
       "      <td>Paavo Johannes Aaltonen</td>\n",
       "      <td>M</td>\n",
       "      <td>28.0</td>\n",
       "      <td>175.0</td>\n",
       "      <td>64.0</td>\n",
       "      <td>Finland</td>\n",
       "      <td>FIN</td>\n",
       "      <td>1948 Summer</td>\n",
       "      <td>1948</td>\n",
       "      <td>Summer</td>\n",
       "      <td>London</td>\n",
       "      <td>Gymnastics</td>\n",
       "      <td>Gymnastics Men's Horse Vault</td>\n",
       "      <td>Gold</td>\n",
       "    </tr>\n",
       "    <tr>\n",
       "      <th>48</th>\n",
       "      <td>17</td>\n",
       "      <td>Paavo Johannes Aaltonen</td>\n",
       "      <td>M</td>\n",
       "      <td>28.0</td>\n",
       "      <td>175.0</td>\n",
       "      <td>64.0</td>\n",
       "      <td>Finland</td>\n",
       "      <td>FIN</td>\n",
       "      <td>1948 Summer</td>\n",
       "      <td>1948</td>\n",
       "      <td>Summer</td>\n",
       "      <td>London</td>\n",
       "      <td>Gymnastics</td>\n",
       "      <td>Gymnastics Men's Pommelled Horse</td>\n",
       "      <td>Gold</td>\n",
       "    </tr>\n",
       "    <tr>\n",
       "      <th>50</th>\n",
       "      <td>17</td>\n",
       "      <td>Paavo Johannes Aaltonen</td>\n",
       "      <td>M</td>\n",
       "      <td>32.0</td>\n",
       "      <td>175.0</td>\n",
       "      <td>64.0</td>\n",
       "      <td>Finland</td>\n",
       "      <td>FIN</td>\n",
       "      <td>1952 Summer</td>\n",
       "      <td>1952</td>\n",
       "      <td>Summer</td>\n",
       "      <td>Helsinki</td>\n",
       "      <td>Gymnastics</td>\n",
       "      <td>Gymnastics Men's Team All-Around</td>\n",
       "      <td>Bronze</td>\n",
       "    </tr>\n",
       "  </tbody>\n",
       "</table>\n",
       "</div>"
      ],
      "text/plain": [
       "    ID                     Name Sex   Age  Height  Weight     Team  NOC  \\\n",
       "41  17  Paavo Johannes Aaltonen   M  28.0   175.0    64.0  Finland  FIN   \n",
       "42  17  Paavo Johannes Aaltonen   M  28.0   175.0    64.0  Finland  FIN   \n",
       "44  17  Paavo Johannes Aaltonen   M  28.0   175.0    64.0  Finland  FIN   \n",
       "48  17  Paavo Johannes Aaltonen   M  28.0   175.0    64.0  Finland  FIN   \n",
       "50  17  Paavo Johannes Aaltonen   M  32.0   175.0    64.0  Finland  FIN   \n",
       "\n",
       "          Games  Year  Season      City       Sport  \\\n",
       "41  1948 Summer  1948  Summer    London  Gymnastics   \n",
       "42  1948 Summer  1948  Summer    London  Gymnastics   \n",
       "44  1948 Summer  1948  Summer    London  Gymnastics   \n",
       "48  1948 Summer  1948  Summer    London  Gymnastics   \n",
       "50  1952 Summer  1952  Summer  Helsinki  Gymnastics   \n",
       "\n",
       "                                     Event   Medal  \n",
       "41  Gymnastics Men's Individual All-Around  Bronze  \n",
       "42        Gymnastics Men's Team All-Around    Gold  \n",
       "44            Gymnastics Men's Horse Vault    Gold  \n",
       "48        Gymnastics Men's Pommelled Horse    Gold  \n",
       "50        Gymnastics Men's Team All-Around  Bronze  "
      ]
     },
     "execution_count": 6,
     "metadata": {},
     "output_type": "execute_result"
    }
   ],
   "source": [
    "data.head(5)"
   ]
  },
  {
   "cell_type": "code",
   "execution_count": 4,
   "metadata": {},
   "outputs": [],
   "source": [
    "#Feature: Team (Converting it from string to integer)\n",
    "test_dict={}\n",
    "test_list=[]\n",
    "test_list = list(data['Team'])\n",
    "#print(test_list)"
   ]
  },
  {
   "cell_type": "code",
   "execution_count": 5,
   "metadata": {},
   "outputs": [
    {
     "name": "stdout",
     "output_type": "stream",
     "text": [
      "key\n",
      " 70\n"
     ]
    }
   ],
   "source": [
    "# Team\n",
    "le = preprocessing.LabelEncoder()\n",
    "le.fit(test_list)\n",
    "names= list(le.classes_)\n",
    "array_val=le.transform(list(le.classes_)) \n",
    "\n",
    "for i in range(len(names)):    \n",
    "    test_dict.update({names[i]:array_val[i]})\n",
    "\n",
    "print(\"key\\n\",test_dict['Finland'])\n",
    "#list(le.inverse_transform([array_val]))"
   ]
  },
  {
   "cell_type": "code",
   "execution_count": 6,
   "metadata": {},
   "outputs": [],
   "source": [
    "#Updating the data with string feature Team's corresponding integer value .\n",
    "\n",
    "data[\"Team_number\"] =''\n",
    "for i in range(len(test_list)): \n",
    "    #print(test_dict[test_list[i]])   \n",
    "    data.loc[data['Team'] == test_list[i], ['Team_number']] = test_dict[test_list[i]]"
   ]
  },
  {
   "cell_type": "code",
   "execution_count": 7,
   "metadata": {},
   "outputs": [],
   "source": [
    "#Feature : Sport (Converting it from string to integer)\n",
    "Sport_dict={}\n",
    "Sport_list=[]\n",
    "Sport_list = list(data['Sport'])\n",
    "#print(Sport_list)"
   ]
  },
  {
   "cell_type": "code",
   "execution_count": 8,
   "metadata": {},
   "outputs": [
    {
     "name": "stdout",
     "output_type": "stream",
     "text": [
      "key\n",
      " 16\n"
     ]
    }
   ],
   "source": [
    "# Sport\n",
    "le = preprocessing.LabelEncoder()\n",
    "le.fit(Sport_list)\n",
    "sports= list(le.classes_)\n",
    "array_val_sports=le.transform(sports) \n",
    "\n",
    "for i in range(len(sports)):    \n",
    "    Sport_dict.update({sports[i]:array_val_sports[i]})\n",
    "\n",
    "print(\"key\\n\",Sport_dict['Gymnastics'])\n",
    "#list(le.inverse_transform([array_val]))"
   ]
  },
  {
   "cell_type": "code",
   "execution_count": 9,
   "metadata": {},
   "outputs": [],
   "source": [
    "#Updating the data with string feature Sports's corresponding integer value .\n",
    "\n",
    "data[\"Sport_number\"] =''\n",
    "for i in range(len(Sport_list)): \n",
    "    #print(test_dict[test_list[i]])   \n",
    "    data.loc[data['Sport'] == Sport_list[i], ['Sport_number']] = Sport_dict[Sport_list[i]]"
   ]
  },
  {
   "cell_type": "code",
   "execution_count": 35,
   "metadata": {},
   "outputs": [],
   "source": [
    "#Feature : Event (Converting it from string to integer)\n",
    "Events_dict={}\n",
    "Events_list=[]\n",
    "Events_list = list(data['Event'])\n"
   ]
  },
  {
   "cell_type": "code",
   "execution_count": 36,
   "metadata": {},
   "outputs": [
    {
     "name": "stdout",
     "output_type": "stream",
     "text": [
      "key\n",
      " 209\n"
     ]
    }
   ],
   "source": [
    "# Event\n",
    "le = preprocessing.LabelEncoder()\n",
    "le.fit(Events_list)\n",
    "events= list(le.classes_)\n",
    "array_val_events=le.transform(events) \n",
    "\n",
    "for i in range(len(events)):    \n",
    "    Events_dict.update({events[i]:array_val_events[i]})\n",
    "\n",
    "print(\"key\\n\",Events_dict[\"Gymnastics Men's Individual All-Around\"])\n",
    "#list(le.inverse_transform([array_val]))"
   ]
  },
  {
   "cell_type": "code",
   "execution_count": 37,
   "metadata": {},
   "outputs": [],
   "source": [
    "#Updating the data with string feature Events' corresponding integer value .\n",
    "\n",
    "data[\"Event_number\"] =''\n",
    "for i in range(len(Events_list)): \n",
    "    #print(test_dict[test_list[i]])   \n",
    "    data.loc[data['Event'] == Events_list[i], ['Event_number']] = Events_dict[Events_list[i]]"
   ]
  },
  {
   "cell_type": "code",
   "execution_count": 47,
   "metadata": {},
   "outputs": [],
   "source": [
    "#Feature : City (Converting from string to integer)\n",
    "City_dict={}\n",
    "City_list=[]\n",
    "City_list = list(data['City'])"
   ]
  },
  {
   "cell_type": "code",
   "execution_count": 50,
   "metadata": {},
   "outputs": [
    {
     "name": "stdout",
     "output_type": "stream",
     "text": [
      "key\n",
      " 8\n"
     ]
    }
   ],
   "source": [
    "#City\n",
    "\n",
    "le = preprocessing.LabelEncoder()\n",
    "le.fit(City_list)\n",
    "city= list(le.classes_)\n",
    "array_val_city=le.transform(city) \n",
    "\n",
    "for i in range(len(city)):    \n",
    "    City_dict.update({city[i]:array_val_city[i]})\n",
    "\n",
    "print(\"key\\n\",City_dict['London'])"
   ]
  },
  {
   "cell_type": "code",
   "execution_count": 51,
   "metadata": {},
   "outputs": [],
   "source": [
    "#Updating the data with string feature City's corresponding integer value .\n",
    "\n",
    "data[\"City_number\"] =''\n",
    "for i in range(len(City_list)): \n",
    "    #print(test_dict[test_list[i]])   \n",
    "    data.loc[data['City'] == City_list[i], ['City_number']] = City_dict[City_list[i]]"
   ]
  },
  {
   "cell_type": "code",
   "execution_count": 53,
   "metadata": {},
   "outputs": [],
   "source": [
    "#Feature : Sex (Converting from string to integer)\n",
    "sex_dict={}\n",
    "sex_list=[]\n",
    "sex_list = list(data['Sex'])"
   ]
  },
  {
   "cell_type": "code",
   "execution_count": 55,
   "metadata": {},
   "outputs": [
    {
     "name": "stdout",
     "output_type": "stream",
     "text": [
      "key\n",
      " 1\n",
      "key\n",
      " 0\n"
     ]
    }
   ],
   "source": [
    "#Sex\n",
    "\n",
    "le = preprocessing.LabelEncoder()\n",
    "le.fit(sex_list)\n",
    "sex= list(le.classes_)\n",
    "array_val_sex=le.transform(sex) \n",
    "\n",
    "for i in range(len(sex)):    \n",
    "    sex_dict.update({sex[i]:array_val_sex[i]})\n",
    "\n",
    "print(\"key\\n\",sex_dict['M'])\n",
    "print(\"key\\n\",sex_dict['F'])"
   ]
  },
  {
   "cell_type": "code",
   "execution_count": 56,
   "metadata": {},
   "outputs": [],
   "source": [
    "#Updating the data with string feature City's corresponding integer value .\n",
    "\n",
    "data[\"sex_number\"] =''\n",
    "for i in range(len(sex_list)): \n",
    "    #print(test_dict[test_list[i]])   \n",
    "    data.loc[data['Sex'] == sex_list[i], ['sex_number']] = sex_dict[sex_list[i]]"
   ]
  },
  {
   "cell_type": "code",
   "execution_count": 57,
   "metadata": {},
   "outputs": [
    {
     "data": {
      "text/html": [
       "<div>\n",
       "<style scoped>\n",
       "    .dataframe tbody tr th:only-of-type {\n",
       "        vertical-align: middle;\n",
       "    }\n",
       "\n",
       "    .dataframe tbody tr th {\n",
       "        vertical-align: top;\n",
       "    }\n",
       "\n",
       "    .dataframe thead th {\n",
       "        text-align: right;\n",
       "    }\n",
       "</style>\n",
       "<table border=\"1\" class=\"dataframe\">\n",
       "  <thead>\n",
       "    <tr style=\"text-align: right;\">\n",
       "      <th></th>\n",
       "      <th>ID</th>\n",
       "      <th>Name</th>\n",
       "      <th>Sex</th>\n",
       "      <th>Age</th>\n",
       "      <th>Height</th>\n",
       "      <th>Weight</th>\n",
       "      <th>Team</th>\n",
       "      <th>NOC</th>\n",
       "      <th>Games</th>\n",
       "      <th>Year</th>\n",
       "      <th>Season</th>\n",
       "      <th>City</th>\n",
       "      <th>Sport</th>\n",
       "      <th>Event</th>\n",
       "      <th>Medal</th>\n",
       "      <th>Team_number</th>\n",
       "      <th>Sport_number</th>\n",
       "      <th>Event_number</th>\n",
       "      <th>City_number</th>\n",
       "      <th>sex_number</th>\n",
       "    </tr>\n",
       "  </thead>\n",
       "  <tbody>\n",
       "    <tr>\n",
       "      <th>41</th>\n",
       "      <td>17</td>\n",
       "      <td>Paavo Johannes Aaltonen</td>\n",
       "      <td>M</td>\n",
       "      <td>28.0</td>\n",
       "      <td>175.0</td>\n",
       "      <td>64.0</td>\n",
       "      <td>Finland</td>\n",
       "      <td>FIN</td>\n",
       "      <td>1948 Summer</td>\n",
       "      <td>1948</td>\n",
       "      <td>Summer</td>\n",
       "      <td>London</td>\n",
       "      <td>Gymnastics</td>\n",
       "      <td>Gymnastics Men's Individual All-Around</td>\n",
       "      <td>Bronze</td>\n",
       "      <td>70</td>\n",
       "      <td>16</td>\n",
       "      <td>209</td>\n",
       "      <td>8</td>\n",
       "      <td>1</td>\n",
       "    </tr>\n",
       "    <tr>\n",
       "      <th>42</th>\n",
       "      <td>17</td>\n",
       "      <td>Paavo Johannes Aaltonen</td>\n",
       "      <td>M</td>\n",
       "      <td>28.0</td>\n",
       "      <td>175.0</td>\n",
       "      <td>64.0</td>\n",
       "      <td>Finland</td>\n",
       "      <td>FIN</td>\n",
       "      <td>1948 Summer</td>\n",
       "      <td>1948</td>\n",
       "      <td>Summer</td>\n",
       "      <td>London</td>\n",
       "      <td>Gymnastics</td>\n",
       "      <td>Gymnastics Men's Team All-Around</td>\n",
       "      <td>Gold</td>\n",
       "      <td>70</td>\n",
       "      <td>16</td>\n",
       "      <td>215</td>\n",
       "      <td>8</td>\n",
       "      <td>1</td>\n",
       "    </tr>\n",
       "    <tr>\n",
       "      <th>44</th>\n",
       "      <td>17</td>\n",
       "      <td>Paavo Johannes Aaltonen</td>\n",
       "      <td>M</td>\n",
       "      <td>28.0</td>\n",
       "      <td>175.0</td>\n",
       "      <td>64.0</td>\n",
       "      <td>Finland</td>\n",
       "      <td>FIN</td>\n",
       "      <td>1948 Summer</td>\n",
       "      <td>1948</td>\n",
       "      <td>Summer</td>\n",
       "      <td>London</td>\n",
       "      <td>Gymnastics</td>\n",
       "      <td>Gymnastics Men's Horse Vault</td>\n",
       "      <td>Gold</td>\n",
       "      <td>70</td>\n",
       "      <td>16</td>\n",
       "      <td>208</td>\n",
       "      <td>8</td>\n",
       "      <td>1</td>\n",
       "    </tr>\n",
       "    <tr>\n",
       "      <th>48</th>\n",
       "      <td>17</td>\n",
       "      <td>Paavo Johannes Aaltonen</td>\n",
       "      <td>M</td>\n",
       "      <td>28.0</td>\n",
       "      <td>175.0</td>\n",
       "      <td>64.0</td>\n",
       "      <td>Finland</td>\n",
       "      <td>FIN</td>\n",
       "      <td>1948 Summer</td>\n",
       "      <td>1948</td>\n",
       "      <td>Summer</td>\n",
       "      <td>London</td>\n",
       "      <td>Gymnastics</td>\n",
       "      <td>Gymnastics Men's Pommelled Horse</td>\n",
       "      <td>Gold</td>\n",
       "      <td>70</td>\n",
       "      <td>16</td>\n",
       "      <td>212</td>\n",
       "      <td>8</td>\n",
       "      <td>1</td>\n",
       "    </tr>\n",
       "    <tr>\n",
       "      <th>50</th>\n",
       "      <td>17</td>\n",
       "      <td>Paavo Johannes Aaltonen</td>\n",
       "      <td>M</td>\n",
       "      <td>32.0</td>\n",
       "      <td>175.0</td>\n",
       "      <td>64.0</td>\n",
       "      <td>Finland</td>\n",
       "      <td>FIN</td>\n",
       "      <td>1952 Summer</td>\n",
       "      <td>1952</td>\n",
       "      <td>Summer</td>\n",
       "      <td>Helsinki</td>\n",
       "      <td>Gymnastics</td>\n",
       "      <td>Gymnastics Men's Team All-Around</td>\n",
       "      <td>Bronze</td>\n",
       "      <td>70</td>\n",
       "      <td>16</td>\n",
       "      <td>215</td>\n",
       "      <td>7</td>\n",
       "      <td>1</td>\n",
       "    </tr>\n",
       "  </tbody>\n",
       "</table>\n",
       "</div>"
      ],
      "text/plain": [
       "    ID                     Name Sex   Age  Height  Weight     Team  NOC  \\\n",
       "41  17  Paavo Johannes Aaltonen   M  28.0   175.0    64.0  Finland  FIN   \n",
       "42  17  Paavo Johannes Aaltonen   M  28.0   175.0    64.0  Finland  FIN   \n",
       "44  17  Paavo Johannes Aaltonen   M  28.0   175.0    64.0  Finland  FIN   \n",
       "48  17  Paavo Johannes Aaltonen   M  28.0   175.0    64.0  Finland  FIN   \n",
       "50  17  Paavo Johannes Aaltonen   M  32.0   175.0    64.0  Finland  FIN   \n",
       "\n",
       "          Games  Year  Season      City       Sport  \\\n",
       "41  1948 Summer  1948  Summer    London  Gymnastics   \n",
       "42  1948 Summer  1948  Summer    London  Gymnastics   \n",
       "44  1948 Summer  1948  Summer    London  Gymnastics   \n",
       "48  1948 Summer  1948  Summer    London  Gymnastics   \n",
       "50  1952 Summer  1952  Summer  Helsinki  Gymnastics   \n",
       "\n",
       "                                     Event   Medal  Team_number  Sport_number  \\\n",
       "41  Gymnastics Men's Individual All-Around  Bronze           70            16   \n",
       "42        Gymnastics Men's Team All-Around    Gold           70            16   \n",
       "44            Gymnastics Men's Horse Vault    Gold           70            16   \n",
       "48        Gymnastics Men's Pommelled Horse    Gold           70            16   \n",
       "50        Gymnastics Men's Team All-Around  Bronze           70            16   \n",
       "\n",
       "    Event_number  City_number  sex_number  \n",
       "41           209            8           1  \n",
       "42           215            8           1  \n",
       "44           208            8           1  \n",
       "48           212            8           1  \n",
       "50           215            7           1  "
      ]
     },
     "execution_count": 57,
     "metadata": {},
     "output_type": "execute_result"
    }
   ],
   "source": [
    "data.head(5)\n",
    "#print(data['Team_number'])"
   ]
  },
  {
   "cell_type": "code",
   "execution_count": 58,
   "metadata": {},
   "outputs": [],
   "source": [
    "#Write csv of wrangled data.\n",
    "data.to_csv(\"results/athelete_events_wrangled\")"
   ]
  },
  {
   "cell_type": "code",
   "execution_count": 12,
   "metadata": {},
   "outputs": [],
   "source": [
    "data_clean = pd.read_csv(\"../results/athelete_events_wrangled\")"
   ]
  },
  {
   "cell_type": "code",
   "execution_count": 14,
   "metadata": {},
   "outputs": [
    {
     "data": {
      "text/html": [
       "<div>\n",
       "<style scoped>\n",
       "    .dataframe tbody tr th:only-of-type {\n",
       "        vertical-align: middle;\n",
       "    }\n",
       "\n",
       "    .dataframe tbody tr th {\n",
       "        vertical-align: top;\n",
       "    }\n",
       "\n",
       "    .dataframe thead th {\n",
       "        text-align: right;\n",
       "    }\n",
       "</style>\n",
       "<table border=\"1\" class=\"dataframe\">\n",
       "  <thead>\n",
       "    <tr style=\"text-align: right;\">\n",
       "      <th></th>\n",
       "      <th>Unnamed: 0</th>\n",
       "      <th>ID</th>\n",
       "      <th>Name</th>\n",
       "      <th>Sex</th>\n",
       "      <th>Age</th>\n",
       "      <th>Height</th>\n",
       "      <th>Weight</th>\n",
       "      <th>Team</th>\n",
       "      <th>NOC</th>\n",
       "      <th>Games</th>\n",
       "      <th>...</th>\n",
       "      <th>Season</th>\n",
       "      <th>City</th>\n",
       "      <th>Sport</th>\n",
       "      <th>Event</th>\n",
       "      <th>Medal</th>\n",
       "      <th>Team_number</th>\n",
       "      <th>Sport_number</th>\n",
       "      <th>Event_number</th>\n",
       "      <th>City_number</th>\n",
       "      <th>sex_number</th>\n",
       "    </tr>\n",
       "  </thead>\n",
       "  <tbody>\n",
       "    <tr>\n",
       "      <th>0</th>\n",
       "      <td>41</td>\n",
       "      <td>17</td>\n",
       "      <td>Paavo Johannes Aaltonen</td>\n",
       "      <td>M</td>\n",
       "      <td>28.0</td>\n",
       "      <td>175.0</td>\n",
       "      <td>64.0</td>\n",
       "      <td>Finland</td>\n",
       "      <td>FIN</td>\n",
       "      <td>1948 Summer</td>\n",
       "      <td>...</td>\n",
       "      <td>Summer</td>\n",
       "      <td>London</td>\n",
       "      <td>Gymnastics</td>\n",
       "      <td>Gymnastics Men's Individual All-Around</td>\n",
       "      <td>Bronze</td>\n",
       "      <td>70</td>\n",
       "      <td>16</td>\n",
       "      <td>209</td>\n",
       "      <td>8</td>\n",
       "      <td>1</td>\n",
       "    </tr>\n",
       "    <tr>\n",
       "      <th>1</th>\n",
       "      <td>42</td>\n",
       "      <td>17</td>\n",
       "      <td>Paavo Johannes Aaltonen</td>\n",
       "      <td>M</td>\n",
       "      <td>28.0</td>\n",
       "      <td>175.0</td>\n",
       "      <td>64.0</td>\n",
       "      <td>Finland</td>\n",
       "      <td>FIN</td>\n",
       "      <td>1948 Summer</td>\n",
       "      <td>...</td>\n",
       "      <td>Summer</td>\n",
       "      <td>London</td>\n",
       "      <td>Gymnastics</td>\n",
       "      <td>Gymnastics Men's Team All-Around</td>\n",
       "      <td>Gold</td>\n",
       "      <td>70</td>\n",
       "      <td>16</td>\n",
       "      <td>215</td>\n",
       "      <td>8</td>\n",
       "      <td>1</td>\n",
       "    </tr>\n",
       "  </tbody>\n",
       "</table>\n",
       "<p>2 rows × 21 columns</p>\n",
       "</div>"
      ],
      "text/plain": [
       "   Unnamed: 0  ID                     Name Sex   Age  Height  Weight     Team  \\\n",
       "0          41  17  Paavo Johannes Aaltonen   M  28.0   175.0    64.0  Finland   \n",
       "1          42  17  Paavo Johannes Aaltonen   M  28.0   175.0    64.0  Finland   \n",
       "\n",
       "   NOC        Games     ...      Season    City       Sport  \\\n",
       "0  FIN  1948 Summer     ...      Summer  London  Gymnastics   \n",
       "1  FIN  1948 Summer     ...      Summer  London  Gymnastics   \n",
       "\n",
       "                                    Event   Medal Team_number  Sport_number  \\\n",
       "0  Gymnastics Men's Individual All-Around  Bronze          70            16   \n",
       "1        Gymnastics Men's Team All-Around    Gold          70            16   \n",
       "\n",
       "   Event_number  City_number  sex_number  \n",
       "0           209            8           1  \n",
       "1           215            8           1  \n",
       "\n",
       "[2 rows x 21 columns]"
      ]
     },
     "execution_count": 14,
     "metadata": {},
     "output_type": "execute_result"
    }
   ],
   "source": [
    "data_clean.head(2)"
   ]
  },
  {
   "cell_type": "code",
   "execution_count": 15,
   "metadata": {},
   "outputs": [],
   "source": [
    "# Building Features , excluding NOC , Games , Season.\n",
    "feature_cols = ['Age','Height','Weight','Team_number','Sport_number','Year','Event_number','sex_number','City_number']\n",
    "\n",
    "X = data_clean.loc[:, feature_cols]\n",
    "y = data_clean.Medal"
   ]
  },
  {
   "cell_type": "code",
   "execution_count": 16,
   "metadata": {},
   "outputs": [],
   "source": [
    "#Split the data into training and validation/test.\n",
    "from sklearn.model_selection import train_test_split \n",
    "\n",
    "# shuffles and then splits\n",
    "Xtrain, Xtest, ytrain, ytest = train_test_split(X,y,test_size=0.2)\n"
   ]
  },
  {
   "cell_type": "code",
   "execution_count": 61,
   "metadata": {},
   "outputs": [
    {
     "data": {
      "text/html": [
       "<div>\n",
       "<style scoped>\n",
       "    .dataframe tbody tr th:only-of-type {\n",
       "        vertical-align: middle;\n",
       "    }\n",
       "\n",
       "    .dataframe tbody tr th {\n",
       "        vertical-align: top;\n",
       "    }\n",
       "\n",
       "    .dataframe thead th {\n",
       "        text-align: right;\n",
       "    }\n",
       "</style>\n",
       "<table border=\"1\" class=\"dataframe\">\n",
       "  <thead>\n",
       "    <tr style=\"text-align: right;\">\n",
       "      <th></th>\n",
       "      <th>Age</th>\n",
       "      <th>Height</th>\n",
       "      <th>Weight</th>\n",
       "      <th>Team_number</th>\n",
       "      <th>Sport_number</th>\n",
       "      <th>Year</th>\n",
       "      <th>Event_number</th>\n",
       "      <th>sex_number</th>\n",
       "      <th>City_number</th>\n",
       "    </tr>\n",
       "  </thead>\n",
       "  <tbody>\n",
       "    <tr>\n",
       "      <th>151326</th>\n",
       "      <td>30.0</td>\n",
       "      <td>176.0</td>\n",
       "      <td>66.0</td>\n",
       "      <td>70</td>\n",
       "      <td>2</td>\n",
       "      <td>1928</td>\n",
       "      <td>50</td>\n",
       "      <td>1</td>\n",
       "      <td>0</td>\n",
       "    </tr>\n",
       "    <tr>\n",
       "      <th>58349</th>\n",
       "      <td>26.0</td>\n",
       "      <td>188.0</td>\n",
       "      <td>85.0</td>\n",
       "      <td>169</td>\n",
       "      <td>17</td>\n",
       "      <td>1980</td>\n",
       "      <td>224</td>\n",
       "      <td>1</td>\n",
       "      <td>13</td>\n",
       "    </tr>\n",
       "    <tr>\n",
       "      <th>220949</th>\n",
       "      <td>24.0</td>\n",
       "      <td>181.0</td>\n",
       "      <td>72.0</td>\n",
       "      <td>58</td>\n",
       "      <td>8</td>\n",
       "      <td>1988</td>\n",
       "      <td>135</td>\n",
       "      <td>0</td>\n",
       "      <td>18</td>\n",
       "    </tr>\n",
       "    <tr>\n",
       "      <th>198705</th>\n",
       "      <td>31.0</td>\n",
       "      <td>179.0</td>\n",
       "      <td>76.0</td>\n",
       "      <td>78</td>\n",
       "      <td>18</td>\n",
       "      <td>2004</td>\n",
       "      <td>226</td>\n",
       "      <td>1</td>\n",
       "      <td>2</td>\n",
       "    </tr>\n",
       "    <tr>\n",
       "      <th>256315</th>\n",
       "      <td>30.0</td>\n",
       "      <td>177.0</td>\n",
       "      <td>68.0</td>\n",
       "      <td>31</td>\n",
       "      <td>9</td>\n",
       "      <td>1996</td>\n",
       "      <td>149</td>\n",
       "      <td>1</td>\n",
       "      <td>3</td>\n",
       "    </tr>\n",
       "  </tbody>\n",
       "</table>\n",
       "</div>"
      ],
      "text/plain": [
       "         Age  Height  Weight  Team_number  Sport_number  Year  Event_number  \\\n",
       "151326  30.0   176.0    66.0           70             2  1928            50   \n",
       "58349   26.0   188.0    85.0          169            17  1980           224   \n",
       "220949  24.0   181.0    72.0           58             8  1988           135   \n",
       "198705  31.0   179.0    76.0           78            18  2004           226   \n",
       "256315  30.0   177.0    68.0           31             9  1996           149   \n",
       "\n",
       "        sex_number  City_number  \n",
       "151326           1            0  \n",
       "58349            1           13  \n",
       "220949           0           18  \n",
       "198705           1            2  \n",
       "256315           1            3  "
      ]
     },
     "execution_count": 61,
     "metadata": {},
     "output_type": "execute_result"
    }
   ],
   "source": [
    "Xtrain.head(5)"
   ]
  },
  {
   "cell_type": "code",
   "execution_count": 21,
   "metadata": {},
   "outputs": [],
   "source": [
    "#Model DecisionTreeClassifier() as our target is string.\n",
    "model = tree.DecisionTreeClassifier()\n"
   ]
  },
  {
   "cell_type": "code",
   "execution_count": 63,
   "metadata": {},
   "outputs": [
    {
     "data": {
      "text/plain": [
       "DecisionTreeClassifier(class_weight=None, criterion='gini', max_depth=None,\n",
       "            max_features=None, max_leaf_nodes=None,\n",
       "            min_impurity_decrease=0.0, min_impurity_split=None,\n",
       "            min_samples_leaf=1, min_samples_split=2,\n",
       "            min_weight_fraction_leaf=0.0, presort=False, random_state=None,\n",
       "            splitter='best')"
      ]
     },
     "execution_count": 63,
     "metadata": {},
     "output_type": "execute_result"
    }
   ],
   "source": [
    "# Fit a model on training data set \n",
    "model.fit(Xtrain, ytrain)"
   ]
  },
  {
   "cell_type": "code",
   "execution_count": 64,
   "metadata": {},
   "outputs": [
    {
     "data": {
      "text/plain": [
       "0.9999013417521705"
      ]
     },
     "execution_count": 64,
     "metadata": {},
     "output_type": "execute_result"
    }
   ],
   "source": [
    "#Trainning score\n",
    "model.score(Xtrain, ytrain)"
   ]
  },
  {
   "cell_type": "code",
   "execution_count": 65,
   "metadata": {},
   "outputs": [],
   "source": [
    "#Prediction on test : \n",
    "predict= model.predict(Xtest)"
   ]
  },
  {
   "cell_type": "code",
   "execution_count": 66,
   "metadata": {},
   "outputs": [
    {
     "data": {
      "text/plain": [
       "0.6452949299664628"
      ]
     },
     "execution_count": 66,
     "metadata": {},
     "output_type": "execute_result"
    }
   ],
   "source": [
    "#Test score\n",
    "model.score(Xtest, ytest)"
   ]
  },
  {
   "cell_type": "code",
   "execution_count": 68,
   "metadata": {},
   "outputs": [
    {
     "name": "stdout",
     "output_type": "stream",
     "text": [
      "Test error, 0.3547050700335372\n"
     ]
    }
   ],
   "source": [
    "# Test error .\n",
    "yhat = model.predict(Xtest)\n",
    "train_err = np.mean(ytest!=yhat)\n",
    "print(\"Test error,\", train_err)"
   ]
  },
  {
   "cell_type": "code",
   "execution_count": 72,
   "metadata": {},
   "outputs": [
    {
     "name": "stdout",
     "output_type": "stream",
     "text": [
      "         Age  Height  Weight  Team_number  Sport_number  Year  Event_number  \\\n",
      "128895  22.0   170.0    57.0           95            18  1972           226   \n",
      "179289  25.0   190.0    95.0            8             4  2004            93   \n",
      "96184   35.0   170.0    59.0          206            34  2016           387   \n",
      "211679  24.0   172.0    64.0           70            16  1932           210   \n",
      "88963   21.0   175.0    60.0           82             2  1908             6   \n",
      "\n",
      "        sex_number  City_number  \n",
      "128895           1           14  \n",
      "179289           1            2  \n",
      "96184            0           16  \n",
      "211679           1            9  \n",
      "88963            1            8  \n",
      "128895    Bronze\n",
      "179289    Silver\n",
      "96184     Silver\n",
      "211679    Bronze\n",
      "88963     Bronze\n",
      "Name: Medal, dtype: object\n"
     ]
    }
   ],
   "source": [
    "#Print\n",
    "print(Xtest.head(5))\n",
    "print(ytest.head(5))"
   ]
  },
  {
   "cell_type": "code",
   "execution_count": 67,
   "metadata": {},
   "outputs": [],
   "source": [
    "#Predict on validation dataset .\n",
    "#predictions = model.predict(X)\n",
    "\n",
    "#pred_dict = data.copy()\n",
    "#pred_dict['prediction'] = predictions\n",
    "#pd.DataFrame(pred_dict)\n"
   ]
  },
  {
   "cell_type": "code",
   "execution_count": null,
   "metadata": {},
   "outputs": [],
   "source": []
  }
 ],
 "metadata": {
  "kernelspec": {
   "display_name": "Python 3",
   "language": "python",
   "name": "python3"
  },
  "language_info": {
   "codemirror_mode": {
    "name": "ipython",
    "version": 3
   },
   "file_extension": ".py",
   "mimetype": "text/x-python",
   "name": "python",
   "nbconvert_exporter": "python",
   "pygments_lexer": "ipython3",
   "version": "3.6.5"
  }
 },
 "nbformat": 4,
 "nbformat_minor": 2
}
